{
  "nbformat": 4,
  "nbformat_minor": 0,
  "metadata": {
    "colab": {
      "name": "Untitled2.ipynb",
      "provenance": [],
      "collapsed_sections": [],
      "authorship_tag": "ABX9TyOwbxmSOgtMw/z8qMnawDw8",
      "include_colab_link": true
    },
    "kernelspec": {
      "name": "python3",
      "display_name": "Python 3"
    }
  },
  "cells": [
    {
      "cell_type": "markdown",
      "metadata": {
        "id": "view-in-github",
        "colab_type": "text"
      },
      "source": [
        "<a href=\"https://colab.research.google.com/github/ToluClassics/ML-Logistic-regression-algorithm-challenge/blob/Odunayo/Logistic%20Regression%20From%20Scratch.ipynb\" target=\"_parent\"><img src=\"https://colab.research.google.com/assets/colab-badge.svg\" alt=\"Open In Colab\"/></a>"
      ]
    },
    {
      "cell_type": "code",
      "metadata": {
        "id": "z6YhiE0xjbHS",
        "colab_type": "code",
        "colab": {}
      },
      "source": [
        "#Import all the Important Libraries\n",
        "\n",
        "import numpy as np\n",
        "import matplotlib.pyplot as plt\n",
        "\n",
        "%matplotlib inline\n",
        "\n",
        "%config IPCompleter.greedy=True"
      ],
      "execution_count": 0,
      "outputs": []
    },
    {
      "cell_type": "code",
      "metadata": {
        "id": "j65cau4ejhOr",
        "colab_type": "code",
        "colab": {}
      },
      "source": [
        "#Define the Sigmoid Function\n",
        "\n",
        "def sigmoid(z):\n",
        "    s = 1/(1+np.exp(-z))\n",
        "    return s"
      ],
      "execution_count": 0,
      "outputs": []
    },
    {
      "cell_type": "code",
      "metadata": {
        "id": "YZjl7zasj0ae",
        "colab_type": "code",
        "outputId": "8819610e-0419-4c06-d26d-46852051d0d5",
        "colab": {
          "base_uri": "https://localhost:8080/",
          "height": 34
        }
      },
      "source": [
        "#Test the Sigmoid function\n",
        "\n",
        "print (\"sigmoid([0, 2]) = \" + str(sigmoid(np.array([0,2]))))"
      ],
      "execution_count": 0,
      "outputs": [
        {
          "output_type": "stream",
          "text": [
            "sigmoid([0, 2]) = [0.5        0.88079708]\n"
          ],
          "name": "stdout"
        }
      ]
    },
    {
      "cell_type": "code",
      "metadata": {
        "id": "4VK1pRCmj4w1",
        "colab_type": "code",
        "colab": {}
      },
      "source": [
        "#Initialize the Weights with dimenstion dim to zeros with bias of zero\n",
        "\n",
        "def init_weight(dim):\n",
        "\n",
        "    w = np.zeros((dim,1))\n",
        "    b = 0\n",
        "\n",
        "    assert(w.shape == (dim, 1))\n",
        "    assert(isinstance(b, float) or isinstance(b, int))\n",
        "    \n",
        "    return w, b"
      ],
      "execution_count": 0,
      "outputs": []
    },
    {
      "cell_type": "code",
      "metadata": {
        "id": "Olel1P0fkW-c",
        "colab_type": "code",
        "outputId": "b34f0134-9783-48b5-ca19-00abaa2a6ae9",
        "colab": {
          "base_uri": "https://localhost:8080/",
          "height": 68
        }
      },
      "source": [
        "# test the weight initialization function\n",
        "\n",
        "dim = 2\n",
        "w, b = init_weight(dim)\n",
        "print (\"w = \" + str(w))\n",
        "print (\"b = \" + str(b))\n"
      ],
      "execution_count": 0,
      "outputs": [
        {
          "output_type": "stream",
          "text": [
            "w = [[0.]\n",
            " [0.]]\n",
            "b = 0\n"
          ],
          "name": "stdout"
        }
      ]
    },
    {
      "cell_type": "code",
      "metadata": {
        "id": "enrznrz_kb8q",
        "colab_type": "code",
        "colab": {}
      },
      "source": [
        "#defining a formula to compute the activation using the sigmoid, comput the cost and implement gradient descent\n",
        "\n",
        "\n",
        "def forward(w, b, X, Y):\n",
        "    \n",
        "    m = X.shape[1]\n",
        "    \n",
        "    A = sigmoid(np.dot(w.T,X) +b)                                    # compute activation\n",
        "    cost = (-1/m)*(np.sum((np.multiply(Y,np.log(A))+(1-Y)*np.log(1-A))))                   # compute cost\n",
        "    \n",
        "    \n",
        "    #Implementing gradient descent\n",
        "    dw = (1/m)*(np.dot(X,(A-Y).T))\n",
        "    db = (1/m)*(np.sum(A-Y))\n",
        "    \n",
        "    #making sure that the shapes are equal during gradient descent\n",
        "    assert(dw.shape == w.shape)\n",
        "    assert(db.dtype == float)\n",
        "    cost = np.squeeze(cost)\n",
        "    assert(cost.shape == ())\n",
        "    \n",
        "    grads = {\"dw\": dw,\n",
        "             \"db\": db}\n",
        "    \n",
        "    return grads, cost"
      ],
      "execution_count": 0,
      "outputs": []
    },
    {
      "cell_type": "code",
      "metadata": {
        "id": "Sp0TkJMUlQxf",
        "colab_type": "code",
        "outputId": "60149c9d-4dd3-4dc3-eaad-b15fce3ea0f0",
        "colab": {
          "base_uri": "https://localhost:8080/",
          "height": 85
        }
      },
      "source": [
        "#Testing the forward function\n",
        "\n",
        "w, b, X, Y = np.array([[1.],[2.]]), 2., np.array([[1.,2.,-1.],[3.,4.,-3.2]]), np.array([[1,0,1]])\n",
        "grads, cost = forward(w, b, X, Y)\n",
        "print (\"dw = \" + str(grads[\"dw\"]))\n",
        "print (\"db = \" + str(grads[\"db\"]))\n",
        "print (\"cost = \" + str(cost))"
      ],
      "execution_count": 0,
      "outputs": [
        {
          "output_type": "stream",
          "text": [
            "dw = [[0.99845601]\n",
            " [2.39507239]]\n",
            "db = 0.001455578136784208\n",
            "cost = 5.801545319394553\n"
          ],
          "name": "stdout"
        }
      ]
    },
    {
      "cell_type": "code",
      "metadata": {
        "id": "LeZaTz2SlVA2",
        "colab_type": "code",
        "colab": {}
      },
      "source": [
        "#Defining the training function\n",
        "\n",
        "# GRADED FUNCTION: optimize\n",
        "\n",
        "def train(w, b, X, Y, epochs, lr, print_cost = False):\n",
        "    \n",
        "    costs = []\n",
        "    \n",
        "    for i in range(epochs):\n",
        "        \n",
        "      \n",
        "        grads, cost = forward(w, b, X, Y)\n",
        "        \n",
        "        # Retrieve derivatives from grads\n",
        "        dw = grads[\"dw\"]\n",
        "        #print(dw)\n",
        "        db = grads[\"db\"]\n",
        "        \n",
        "        w = w -lr*dw\n",
        "        b = b - lr*db\n",
        "        \n",
        "        \n",
        "        # Record the costs\n",
        "        if i % 100 == 0:\n",
        "            costs.append(cost)\n",
        "        \n",
        "        # Print the cost every 100 epochs\n",
        "        if print_cost and i % 100 == 0:\n",
        "            print (\"Cost after iteration %i: %f\" %(i, cost))\n",
        "    \n",
        "    params = {\"w\": w,\n",
        "              \"b\": b}\n",
        "    \n",
        "    grads = {\"dw\": dw,\n",
        "             \"db\": db}\n",
        "    \n",
        "    return params, grads, costs\n"
      ],
      "execution_count": 0,
      "outputs": []
    },
    {
      "cell_type": "code",
      "metadata": {
        "id": "DYN0N_V-mGiv",
        "colab_type": "code",
        "outputId": "29a7f9d0-cd3f-4cc4-bfe7-a06d72c8f66d",
        "colab": {
          "base_uri": "https://localhost:8080/",
          "height": 153
        }
      },
      "source": [
        "#Test the training function\n",
        "\n",
        "params, grads, costs = train(w, b, X, Y, epochs= 200, lr = 0.001, print_cost = True)\n",
        "\n",
        "print (\"w = \" + str(params[\"w\"]))\n",
        "print (\"b = \" + str(params[\"b\"]))\n",
        "print (\"dw = \" + str(grads[\"dw\"]))\n",
        "print (\"db = \" + str(grads[\"db\"]))"
      ],
      "execution_count": 0,
      "outputs": [
        {
          "output_type": "stream",
          "text": [
            "Cost after iteration 0: 5.801545\n",
            "Cost after iteration 100: 5.129766\n",
            "w = [[0.80081541]\n",
            " [1.52260134]]\n",
            "b = 1.9992307350796348\n",
            "dw = [[0.99156974]\n",
            " [2.37311377]]\n",
            "db = 0.007951996524348637\n"
          ],
          "name": "stdout"
        }
      ]
    },
    {
      "cell_type": "code",
      "metadata": {
        "id": "TocWe94RmPjk",
        "colab_type": "code",
        "colab": {}
      },
      "source": [
        "#Define a function to make predictions\n",
        "\n",
        "def predict(w, b, X):\n",
        " \n",
        "    m = X.shape[1]\n",
        "    Y_prediction = np.zeros((1,m))\n",
        "    w = w.reshape(X.shape[0], 1)\n",
        "    \n",
        "    A = sigmoid(np.dot(w.T,X) +b)\n",
        "\n",
        "    for i in range(A.shape[1]):\n",
        "\n",
        "        if A[0][i] <= 0.5:\n",
        "            Y_prediction[0][i] = 0\n",
        "        else:\n",
        "            Y_prediction[0][i] = 1\n",
        "        pass\n",
        "    \n",
        "    assert(Y_prediction.shape == (1, m))\n",
        "    \n",
        "    return Y_prediction"
      ],
      "execution_count": 0,
      "outputs": []
    },
    {
      "cell_type": "code",
      "metadata": {
        "id": "y8hXbvYemuAn",
        "colab_type": "code",
        "colab": {}
      },
      "source": [
        "#Final Logistic Regression Model\n",
        "\n",
        "\n",
        "\n",
        "def log_model(X_train, Y_train, X_test, Y_test, epochs = 2000, lr = 0.5, print_cost = False):\n",
        "\n",
        "    # initialize parameters with zeros \n",
        "    w, b = init_weight(X_train.shape[0])\n",
        "    print(w,b)\n",
        "\n",
        "    # Gradient descent\n",
        "    parameters, grads, costs = train(w, b, X_train, Y_train, epochs, lr, print_cost)\n",
        "    \n",
        "    # Retrieve parameters w and b from dictionary \"parameters\"\n",
        "    w = parameters[\"w\"]\n",
        "    b = parameters[\"b\"]\n",
        "    \n",
        "    # Predict test/train set examples \n",
        "    Y_prediction_test = predict(w, b, X_test)\n",
        "    Y_prediction_train = predict(w, b, X_train)\n",
        "\n",
        "    # Print train/test Errors\n",
        "    print(\"train accuracy: {} %\".format(100 - np.mean(np.abs(Y_prediction_train - Y_train)) * 100))\n",
        "    print(\"test accuracy: {} %\".format(100 - np.mean(np.abs(Y_prediction_test - Y_test)) * 100))\n",
        "\n",
        "    \n",
        "    diction = {\"costs\": costs,\n",
        "         \"Y_prediction_test\": Y_prediction_test, \n",
        "         \"Y_prediction_train\" : Y_prediction_train, \n",
        "         \"w\" : w, \n",
        "         \"b\" : b,\n",
        "         \"learning_rate\" : lr,\n",
        "         \"Epochs\": epochs}\n",
        "    \n",
        "    return diction\n",
        "\n"
      ],
      "execution_count": 0,
      "outputs": []
    },
    {
      "cell_type": "code",
      "metadata": {
        "id": "fh5PvDqontuc",
        "colab_type": "code",
        "colab": {}
      },
      "source": [
        "#Plot the cost against the learning rate after training\n",
        "\n",
        "costs = np.squeeze(d['costs'])\n",
        "plt.plot(costs)\n",
        "plt.ylabel('cost')\n",
        "plt.xlabel('Epochs (per hundreds)')\n",
        "plt.title(\"Learning rate =\" + str(d[\"lr\"]))\n",
        "plt.show()"
      ],
      "execution_count": 0,
      "outputs": []
    }
  ]
}